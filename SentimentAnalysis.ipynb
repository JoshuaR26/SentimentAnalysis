{
 "cells": [
  {
   "cell_type": "code",
   "execution_count": 1,
   "id": "2d787726-9b42-4f0f-bdab-a06dfaa2894d",
   "metadata": {},
   "outputs": [],
   "source": [
    "import pandas as pd\n",
    "import numpy as np\n",
    "import matplotlib.pyplot as plt\n",
    "import seaborn as sns\n",
    "\n",
    "plt.style.use('ggplot')\n",
    "\n",
    "import nltk"
   ]
  },
  {
   "cell_type": "code",
   "execution_count": 2,
   "id": "013815b9-adfc-4518-b5b8-78b27ddf1d67",
   "metadata": {},
   "outputs": [
    {
     "data": {
      "text/html": [
       "<div>\n",
       "<style scoped>\n",
       "    .dataframe tbody tr th:only-of-type {\n",
       "        vertical-align: middle;\n",
       "    }\n",
       "\n",
       "    .dataframe tbody tr th {\n",
       "        vertical-align: top;\n",
       "    }\n",
       "\n",
       "    .dataframe thead th {\n",
       "        text-align: right;\n",
       "    }\n",
       "</style>\n",
       "<table border=\"1\" class=\"dataframe\">\n",
       "  <thead>\n",
       "    <tr style=\"text-align: right;\">\n",
       "      <th></th>\n",
       "      <th>Id</th>\n",
       "      <th>ProductId</th>\n",
       "      <th>UserId</th>\n",
       "      <th>ProfileName</th>\n",
       "      <th>HelpfulnessNumerator</th>\n",
       "      <th>HelpfulnessDenominator</th>\n",
       "      <th>Score</th>\n",
       "      <th>Time</th>\n",
       "      <th>Summary</th>\n",
       "      <th>Text</th>\n",
       "    </tr>\n",
       "  </thead>\n",
       "  <tbody>\n",
       "    <tr>\n",
       "      <th>0</th>\n",
       "      <td>1</td>\n",
       "      <td>B001E4KFG0</td>\n",
       "      <td>A3SGXH7AUHU8GW</td>\n",
       "      <td>delmartian</td>\n",
       "      <td>1</td>\n",
       "      <td>1</td>\n",
       "      <td>5</td>\n",
       "      <td>1303862400</td>\n",
       "      <td>Good Quality Dog Food</td>\n",
       "      <td>I have bought several of the Vitality canned d...</td>\n",
       "    </tr>\n",
       "    <tr>\n",
       "      <th>1</th>\n",
       "      <td>2</td>\n",
       "      <td>B00813GRG4</td>\n",
       "      <td>A1D87F6ZCVE5NK</td>\n",
       "      <td>dll pa</td>\n",
       "      <td>0</td>\n",
       "      <td>0</td>\n",
       "      <td>1</td>\n",
       "      <td>1346976000</td>\n",
       "      <td>Not as Advertised</td>\n",
       "      <td>Product arrived labeled as Jumbo Salted Peanut...</td>\n",
       "    </tr>\n",
       "    <tr>\n",
       "      <th>2</th>\n",
       "      <td>3</td>\n",
       "      <td>B000LQOCH0</td>\n",
       "      <td>ABXLMWJIXXAIN</td>\n",
       "      <td>Natalia Corres \"Natalia Corres\"</td>\n",
       "      <td>1</td>\n",
       "      <td>1</td>\n",
       "      <td>4</td>\n",
       "      <td>1219017600</td>\n",
       "      <td>\"Delight\" says it all</td>\n",
       "      <td>This is a confection that has been around a fe...</td>\n",
       "    </tr>\n",
       "    <tr>\n",
       "      <th>3</th>\n",
       "      <td>4</td>\n",
       "      <td>B000UA0QIQ</td>\n",
       "      <td>A395BORC6FGVXV</td>\n",
       "      <td>Karl</td>\n",
       "      <td>3</td>\n",
       "      <td>3</td>\n",
       "      <td>2</td>\n",
       "      <td>1307923200</td>\n",
       "      <td>Cough Medicine</td>\n",
       "      <td>If you are looking for the secret ingredient i...</td>\n",
       "    </tr>\n",
       "    <tr>\n",
       "      <th>4</th>\n",
       "      <td>5</td>\n",
       "      <td>B006K2ZZ7K</td>\n",
       "      <td>A1UQRSCLF8GW1T</td>\n",
       "      <td>Michael D. Bigham \"M. Wassir\"</td>\n",
       "      <td>0</td>\n",
       "      <td>0</td>\n",
       "      <td>5</td>\n",
       "      <td>1350777600</td>\n",
       "      <td>Great taffy</td>\n",
       "      <td>Great taffy at a great price.  There was a wid...</td>\n",
       "    </tr>\n",
       "  </tbody>\n",
       "</table>\n",
       "</div>"
      ],
      "text/plain": [
       "   Id   ProductId          UserId                      ProfileName  \\\n",
       "0   1  B001E4KFG0  A3SGXH7AUHU8GW                       delmartian   \n",
       "1   2  B00813GRG4  A1D87F6ZCVE5NK                           dll pa   \n",
       "2   3  B000LQOCH0   ABXLMWJIXXAIN  Natalia Corres \"Natalia Corres\"   \n",
       "3   4  B000UA0QIQ  A395BORC6FGVXV                             Karl   \n",
       "4   5  B006K2ZZ7K  A1UQRSCLF8GW1T    Michael D. Bigham \"M. Wassir\"   \n",
       "\n",
       "   HelpfulnessNumerator  HelpfulnessDenominator  Score        Time  \\\n",
       "0                     1                       1      5  1303862400   \n",
       "1                     0                       0      1  1346976000   \n",
       "2                     1                       1      4  1219017600   \n",
       "3                     3                       3      2  1307923200   \n",
       "4                     0                       0      5  1350777600   \n",
       "\n",
       "                 Summary                                               Text  \n",
       "0  Good Quality Dog Food  I have bought several of the Vitality canned d...  \n",
       "1      Not as Advertised  Product arrived labeled as Jumbo Salted Peanut...  \n",
       "2  \"Delight\" says it all  This is a confection that has been around a fe...  \n",
       "3         Cough Medicine  If you are looking for the secret ingredient i...  \n",
       "4            Great taffy  Great taffy at a great price.  There was a wid...  "
      ]
     },
     "execution_count": 2,
     "metadata": {},
     "output_type": "execute_result"
    }
   ],
   "source": [
    "df = pd.read_csv('datasets/Reviews.csv')\n",
    "df = df.head(500)\n",
    "df.head()"
   ]
  },
  {
   "cell_type": "code",
   "execution_count": 3,
   "id": "979be1c0-c6a4-473f-a22f-3488067ef520",
   "metadata": {},
   "outputs": [
    {
     "data": {
      "text/plain": [
       "'I have bought several of the Vitality canned dog food products and have found them all to be of good quality. The product looks more like a stew than a processed meat and it smells better. My Labrador is finicky and she appreciates this product better than  most.'"
      ]
     },
     "execution_count": 3,
     "metadata": {},
     "output_type": "execute_result"
    }
   ],
   "source": [
    "df['Text'].values[0]"
   ]
  },
  {
   "cell_type": "markdown",
   "id": "ac93cc98-a225-48fc-9682-820c0158ba71",
   "metadata": {},
   "source": [
    "## EDA"
   ]
  },
  {
   "cell_type": "code",
   "execution_count": 4,
   "id": "e549d3c8-faea-4ccd-9413-cfdb93586755",
   "metadata": {},
   "outputs": [
    {
     "data": {
      "image/png": "[encoded data removed]",
      "text/plain": [
       "<Figure size 1000x500 with 1 Axes>"
      ]
     },
     "metadata": {},
     "output_type": "display_data"
    }
   ],
   "source": [
    "ax = df['Score'].value_counts().sort_index().plot(kind='bar', \n",
    "                                             title= 'Count of Reviews by Rating',\n",
    "                                             figsize=(10,5))\n",
    "ax.set_xlabel('Review Stars')\n",
    "plt.show()"
   ]
  },
  {
   "cell_type": "markdown",
   "id": "81cf0c29-b578-4083-8c59-cbf574c09dd6",
   "metadata": {},
   "source": [
    "## NLTK "
   ]
  },
  {
   "cell_type": "code",
   "execution_count": 5,
   "id": "471a851c-b92e-4272-adc7-7903cddc0df4",
   "metadata": {},
   "outputs": [
    {
     "name": "stdout",
     "output_type": "stream",
     "text": [
      "This oatmeal is not good. Its mushy, soft, I don't like it. Quaker Oats is the way to go.\n"
     ]
    }
   ],
   "source": [
    "example = df['Text'][50]\n",
    "print(example)"
   ]
  },
  {
   "cell_type": "code",
   "execution_count": 6,
   "id": "2e3227f6-2174-4240-8600-a61fa5bec17b",
   "metadata": {
    "scrolled": true
   },
   "outputs": [
    {
     "name": "stdout",
     "output_type": "stream",
     "text": [
      "['This', 'oatmeal', 'is', 'not', 'good', '.', 'Its', 'mushy', ',', 'soft', ',', 'I', 'do', \"n't\", 'like', 'it', '.', 'Quaker', 'Oats', 'is', 'the', 'way', 'to', 'go', '.']\n"
     ]
    }
   ],
   "source": [
    "print(nltk.word_tokenize(example))"
   ]
  },
  {
   "cell_type": "code",
   "execution_count": 7,
   "id": "923bda14-df89-4a88-b889-e2c771fe4dcf",
   "metadata": {},
   "outputs": [
    {
     "data": {
      "text/plain": [
       "['This', 'oatmeal', 'is', 'not', 'good', '.', 'Its', 'mushy', ',', 'soft']"
      ]
     },
     "execution_count": 7,
     "metadata": {},
     "output_type": "execute_result"
    }
   ],
   "source": [
    "tokens = nltk.word_tokenize(example)\n",
    "tokens[:10]"
   ]
  },
  {
   "cell_type": "code",
   "execution_count": 8,
   "id": "5ea03891-faa1-406c-a624-c1af4085584c",
   "metadata": {},
   "outputs": [
    {
     "name": "stdout",
     "output_type": "stream",
     "text": [
      "[('This', 'DT'), ('oatmeal', 'NN'), ('is', 'VBZ'), ('not', 'RB'), ('good', 'JJ'), ('.', '.'), ('Its', 'PRP$'), ('mushy', 'NN'), (',', ','), ('soft', 'JJ'), (',', ','), ('I', 'PRP'), ('do', 'VBP'), (\"n't\", 'RB'), ('like', 'VB'), ('it', 'PRP'), ('.', '.'), ('Quaker', 'NNP'), ('Oats', 'NNPS'), ('is', 'VBZ'), ('the', 'DT'), ('way', 'NN'), ('to', 'TO'), ('go', 'VB'), ('.', '.')]\n"
     ]
    }
   ],
   "source": [
    "# Part Of Speech\n",
    "tagged = nltk.pos_tag(tokens)\n",
    "print(tagged)"
   ]
  },
  {
   "cell_type": "code",
   "execution_count": 9,
   "id": "96d32292-54c6-492f-bb36-9b574488da36",
   "metadata": {},
   "outputs": [
    {
     "name": "stdout",
     "output_type": "stream",
     "text": [
      "(S\n",
      "  This/DT\n",
      "  oatmeal/NN\n",
      "  is/VBZ\n",
      "  not/RB\n",
      "  good/JJ\n",
      "  ./.\n",
      "  Its/PRP$\n",
      "  mushy/NN\n",
      "  ,/,\n",
      "  soft/JJ\n",
      "  ,/,\n",
      "  I/PRP\n",
      "  do/VBP\n",
      "  n't/RB\n",
      "  like/VB\n",
      "  it/PRP\n",
      "  ./.\n",
      "  (ORGANIZATION Quaker/NNP Oats/NNPS)\n",
      "  is/VBZ\n",
      "  the/DT\n",
      "  way/NN\n",
      "  to/TO\n",
      "  go/VB\n",
      "  ./.)\n"
     ]
    }
   ],
   "source": [
    "entites = nltk.chunk.ne_chunk(tagged)\n",
    "entites.pprint()"
   ]
  },
  {
   "cell_type": "markdown",
   "id": "41416011-886e-4c81-a35f-ebf617064764",
   "metadata": {},
   "source": [
    "## Vader Scoring\n",
    "\n",
    "VADER (Valence Aware Dictionary and sEntiment Reasoner) is used to score words to give a value which is either pos/neg/neu.\n",
    "1. Stop words are removed\n",
    "2. Each word is scored and combined to a total score"
   ]
  },
  {
   "cell_type": "code",
   "execution_count": 10,
   "id": "7f1323da-e5c9-477c-ab4d-8ec2d4987aeb",
   "metadata": {},
   "outputs": [],
   "source": [
    "from nltk.sentiment import SentimentIntensityAnalyzer\n",
    "from tqdm.notebook import tqdm\n",
    "\n",
    "sia = SentimentIntensityAnalyzer()"
   ]
  },
  {
   "cell_type": "code",
   "execution_count": 11,
   "id": "d66813dd-be3f-47c1-9e95-2e6b3bd0a91f",
   "metadata": {},
   "outputs": [
    {
     "data": {
      "text/plain": [
       "{'neg': 0.701, 'neu': 0.299, 'pos': 0.0, 'compound': -0.6908}"
      ]
     },
     "execution_count": 11,
     "metadata": {},
     "output_type": "execute_result"
    }
   ],
   "source": [
    "sia.polarity_scores('I wanna kill myself')"
   ]
  },
  {
   "cell_type": "code",
   "execution_count": 12,
   "id": "989f1611-73b8-44cb-b97a-ad71f24632cb",
   "metadata": {},
   "outputs": [
    {
     "data": {
      "text/plain": [
       "{'neg': 0.051, 'neu': 0.787, 'pos': 0.162, 'compound': 0.8979}"
      ]
     },
     "execution_count": 12,
     "metadata": {},
     "output_type": "execute_result"
    }
   ],
   "source": [
    "sia.polarity_scores('''I drape my right leg over her legs, holding her in place. I’ve wanted to do this since she asked me if I was gay. ‘Put your hands up on either side of your head,’ I order and she complies immediately… With great care—relishing the deed—I tug down her sweatpants. Her beautiful behind is naked and ready for me. As I place my hand on her backside, she tenses every muscle in her body … waiting. Her skin is soft to the touch and I sweep my palm across both cheeks, fondling each. She has a fine, fine ass.''')"
   ]
  },
  {
   "cell_type": "code",
   "execution_count": 13,
   "id": "24c73f6c-edf8-43d7-921d-bb2306b28003",
   "metadata": {},
   "outputs": [
    {
     "name": "stdout",
     "output_type": "stream",
     "text": [
      "This oatmeal is not good. Its mushy, soft, I don't like it. Quaker Oats is the way to go.\n"
     ]
    },
    {
     "data": {
      "text/plain": [
       "{'neg': 0.22, 'neu': 0.78, 'pos': 0.0, 'compound': -0.5448}"
      ]
     },
     "execution_count": 13,
     "metadata": {},
     "output_type": "execute_result"
    }
   ],
   "source": [
    "print(example)\n",
    "sia.polarity_scores(example)"
   ]
  },
  {
   "cell_type": "code",
   "execution_count": 14,
   "id": "e80aec49-703f-47e1-8052-263b0071464e",
   "metadata": {
    "scrolled": true
   },
   "outputs": [
    {
     "name": "stdout",
     "output_type": "stream",
     "text": [
      "{'neg': 0.0, 'neu': 0.695, 'pos': 0.305, 'compound': 0.9441}\n",
      "{'neg': 0.138, 'neu': 0.862, 'pos': 0.0, 'compound': -0.5664}\n",
      "{'neg': 0.091, 'neu': 0.754, 'pos': 0.155, 'compound': 0.8265}\n",
      "{'neg': 0.0, 'neu': 1.0, 'pos': 0.0, 'compound': 0.0}\n",
      "{'neg': 0.0, 'neu': 0.552, 'pos': 0.448, 'compound': 0.9468}\n",
      "{'neg': 0.029, 'neu': 0.809, 'pos': 0.163, 'compound': 0.883}\n",
      "{'neg': 0.034, 'neu': 0.693, 'pos': 0.273, 'compound': 0.9346}\n",
      "{'neg': 0.0, 'neu': 0.52, 'pos': 0.48, 'compound': 0.9487}\n",
      "{'neg': 0.0, 'neu': 0.851, 'pos': 0.149, 'compound': 0.6369}\n",
      "{'neg': 0.0, 'neu': 0.705, 'pos': 0.295, 'compound': 0.8313}\n",
      "{'neg': 0.017, 'neu': 0.846, 'pos': 0.137, 'compound': 0.9746}\n",
      "{'neg': 0.113, 'neu': 0.887, 'pos': 0.0, 'compound': -0.7579}\n",
      "{'neg': 0.031, 'neu': 0.923, 'pos': 0.046, 'compound': 0.296}\n",
      "{'neg': 0.0, 'neu': 0.355, 'pos': 0.645, 'compound': 0.9466}\n",
      "{'neg': 0.104, 'neu': 0.632, 'pos': 0.264, 'compound': 0.6486}\n",
      "{'neg': 0.0, 'neu': 0.861, 'pos': 0.139, 'compound': 0.5719}\n",
      "{'neg': 0.097, 'neu': 0.694, 'pos': 0.209, 'compound': 0.7481}\n",
      "{'neg': 0.0, 'neu': 0.61, 'pos': 0.39, 'compound': 0.8883}\n",
      "{'neg': 0.012, 'neu': 0.885, 'pos': 0.103, 'compound': 0.8957}\n",
      "{'neg': 0.0, 'neu': 0.863, 'pos': 0.137, 'compound': 0.6077}\n",
      "{'neg': 0.0, 'neu': 0.865, 'pos': 0.135, 'compound': 0.6249}\n",
      "{'neg': 0.0, 'neu': 0.739, 'pos': 0.261, 'compound': 0.9153}\n",
      "{'neg': 0.0, 'neu': 0.768, 'pos': 0.232, 'compound': 0.7687}\n",
      "{'neg': 0.085, 'neu': 0.771, 'pos': 0.143, 'compound': 0.2617}\n",
      "{'neg': 0.038, 'neu': 0.895, 'pos': 0.068, 'compound': 0.3939}\n",
      "{'neg': 0.0, 'neu': 1.0, 'pos': 0.0, 'compound': 0.0}\n",
      "{'neg': 0.128, 'neu': 0.872, 'pos': 0.0, 'compound': -0.296}\n",
      "{'neg': 0.04, 'neu': 0.808, 'pos': 0.152, 'compound': 0.5956}\n",
      "{'neg': 0.022, 'neu': 0.669, 'pos': 0.309, 'compound': 0.9913}\n",
      "{'neg': 0.017, 'neu': 0.846, 'pos': 0.137, 'compound': 0.9746}\n",
      "{'neg': 0.041, 'neu': 0.692, 'pos': 0.267, 'compound': 0.9713}\n",
      "{'neg': 0.0, 'neu': 0.484, 'pos': 0.516, 'compound': 0.9153}\n",
      "{'neg': 0.069, 'neu': 0.839, 'pos': 0.092, 'compound': 0.7103}\n",
      "{'neg': 0.024, 'neu': 0.72, 'pos': 0.256, 'compound': 0.9779}\n",
      "{'neg': 0.0, 'neu': 0.874, 'pos': 0.126, 'compound': 0.9091}\n",
      "{'neg': 0.024, 'neu': 0.821, 'pos': 0.155, 'compound': 0.7622}\n",
      "{'neg': 0.0, 'neu': 0.754, 'pos': 0.246, 'compound': 0.9196}\n",
      "{'neg': 0.0, 'neu': 0.938, 'pos': 0.062, 'compound': 0.4457}\n",
      "{'neg': 0.05, 'neu': 0.846, 'pos': 0.104, 'compound': 0.7638}\n",
      "{'neg': 0.0, 'neu': 0.856, 'pos': 0.144, 'compound': 0.8114}\n",
      "{'neg': 0.033, 'neu': 0.82, 'pos': 0.147, 'compound': 0.9301}\n",
      "{'neg': 0.03, 'neu': 0.848, 'pos': 0.122, 'compound': 0.9435}\n",
      "{'neg': 0.0, 'neu': 0.588, 'pos': 0.412, 'compound': 0.9441}\n",
      "{'neg': 0.0, 'neu': 0.685, 'pos': 0.315, 'compound': 0.9161}\n",
      "{'neg': 0.031, 'neu': 0.778, 'pos': 0.191, 'compound': 0.8421}\n",
      "{'neg': 0.0, 'neu': 1.0, 'pos': 0.0, 'compound': 0.0}\n",
      "{'neg': 0.0, 'neu': 0.737, 'pos': 0.263, 'compound': 0.9169}\n",
      "{'neg': 0.0, 'neu': 0.868, 'pos': 0.132, 'compound': 0.4404}\n",
      "{'neg': 0.0, 'neu': 0.821, 'pos': 0.179, 'compound': 0.747}\n",
      "{'neg': 0.056, 'neu': 0.865, 'pos': 0.079, 'compound': 0.2363}\n",
      "{'neg': 0.22, 'neu': 0.78, 'pos': 0.0, 'compound': -0.5448}\n",
      "{'neg': 0.047, 'neu': 0.735, 'pos': 0.218, 'compound': 0.9194}\n",
      "{'neg': 0.09, 'neu': 0.858, 'pos': 0.052, 'compound': -0.8259}\n",
      "{'neg': 0.075, 'neu': 0.925, 'pos': 0.0, 'compound': -0.3612}\n",
      "{'neg': 0.0, 'neu': 0.857, 'pos': 0.143, 'compound': 0.8761}\n",
      "{'neg': 0.071, 'neu': 0.708, 'pos': 0.221, 'compound': 0.8908}\n",
      "{'neg': 0.029, 'neu': 0.694, 'pos': 0.277, 'compound': 0.908}\n",
      "{'neg': 0.0, 'neu': 0.701, 'pos': 0.299, 'compound': 0.91}\n",
      "{'neg': 0.0, 'neu': 0.611, 'pos': 0.389, 'compound': 0.9323}\n",
      "{'neg': 0.0, 'neu': 0.638, 'pos': 0.362, 'compound': 0.8807}\n",
      "{'neg': 0.0, 'neu': 0.9, 'pos': 0.1, 'compound': 0.4404}\n",
      "{'neg': 0.0, 'neu': 0.741, 'pos': 0.259, 'compound': 0.8442}\n",
      "{'neg': 0.0, 'neu': 1.0, 'pos': 0.0, 'compound': 0.0}\n",
      "{'neg': 0.055, 'neu': 0.765, 'pos': 0.179, 'compound': 0.9817}\n",
      "{'neg': 0.046, 'neu': 0.75, 'pos': 0.205, 'compound': 0.8674}\n",
      "{'neg': 0.04, 'neu': 0.822, 'pos': 0.138, 'compound': 0.5165}\n",
      "{'neg': 0.057, 'neu': 0.869, 'pos': 0.073, 'compound': 0.492}\n",
      "{'neg': 0.183, 'neu': 0.776, 'pos': 0.041, 'compound': -0.9116}\n",
      "{'neg': 0.135, 'neu': 0.71, 'pos': 0.155, 'compound': -0.0096}\n",
      "{'neg': 0.344, 'neu': 0.52, 'pos': 0.136, 'compound': -0.7345}\n",
      "{'neg': 0.036, 'neu': 0.916, 'pos': 0.048, 'compound': 0.2228}\n",
      "{'neg': 0.078, 'neu': 0.701, 'pos': 0.222, 'compound': 0.9733}\n",
      "{'neg': 0.025, 'neu': 0.653, 'pos': 0.323, 'compound': 0.9787}\n",
      "{'neg': 0.093, 'neu': 0.762, 'pos': 0.144, 'compound': 0.9665}\n",
      "{'neg': 0.0, 'neu': 0.872, 'pos': 0.128, 'compound': 0.2263}\n",
      "{'neg': 0.106, 'neu': 0.768, 'pos': 0.126, 'compound': 0.1098}\n",
      "{'neg': 0.019, 'neu': 0.898, 'pos': 0.083, 'compound': 0.5647}\n",
      "{'neg': 0.034, 'neu': 0.798, 'pos': 0.168, 'compound': 0.8303}\n",
      "{'neg': 0.0, 'neu': 0.763, 'pos': 0.237, 'compound': 0.7814}\n",
      "{'neg': 0.087, 'neu': 0.589, 'pos': 0.324, 'compound': 0.8636}\n",
      "{'neg': 0.0, 'neu': 0.723, 'pos': 0.277, 'compound': 0.9098}\n",
      "{'neg': 0.0, 'neu': 0.663, 'pos': 0.337, 'compound': 0.9041}\n",
      "{'neg': 0.04, 'neu': 0.794, 'pos': 0.165, 'compound': 0.9957}\n",
      "{'neg': 0.055, 'neu': 0.767, 'pos': 0.178, 'compound': 0.8642}\n",
      "{'neg': 0.109, 'neu': 0.676, 'pos': 0.214, 'compound': 0.8431}\n",
      "{'neg': 0.035, 'neu': 0.698, 'pos': 0.267, 'compound': 0.9487}\n",
      "{'neg': 0.019, 'neu': 0.855, 'pos': 0.126, 'compound': 0.8797}\n",
      "{'neg': 0.05, 'neu': 0.735, 'pos': 0.215, 'compound': 0.7424}\n",
      "{'neg': 0.048, 'neu': 0.762, 'pos': 0.19, 'compound': 0.9716}\n",
      "{'neg': 0.029, 'neu': 0.645, 'pos': 0.326, 'compound': 0.9554}\n",
      "{'neg': 0.0, 'neu': 0.833, 'pos': 0.167, 'compound': 0.7351}\n",
      "{'neg': 0.0, 'neu': 0.837, 'pos': 0.163, 'compound': 0.6249}\n",
      "{'neg': 0.069, 'neu': 0.663, 'pos': 0.268, 'compound': 0.8255}\n",
      "{'neg': 0.01, 'neu': 0.781, 'pos': 0.208, 'compound': 0.9882}\n",
      "{'neg': 0.0, 'neu': 1.0, 'pos': 0.0, 'compound': 0.0}\n",
      "{'neg': 0.031, 'neu': 0.732, 'pos': 0.237, 'compound': 0.9273}\n",
      "{'neg': 0.0, 'neu': 0.818, 'pos': 0.182, 'compound': 0.982}\n",
      "{'neg': 0.053, 'neu': 0.793, 'pos': 0.154, 'compound': 0.7729}\n",
      "{'neg': 0.024, 'neu': 0.91, 'pos': 0.066, 'compound': 0.5106}\n",
      "{'neg': 0.173, 'neu': 0.735, 'pos': 0.092, 'compound': -0.5267}\n",
      "{'neg': 0.0, 'neu': 0.807, 'pos': 0.193, 'compound': 0.7717}\n",
      "{'neg': 0.103, 'neu': 0.752, 'pos': 0.145, 'compound': 0.2285}\n",
      "{'neg': 0.0, 'neu': 0.75, 'pos': 0.25, 'compound': 0.9287}\n",
      "{'neg': 0.0, 'neu': 0.859, 'pos': 0.141, 'compound': 0.7249}\n",
      "{'neg': 0.051, 'neu': 0.577, 'pos': 0.372, 'compound': 0.9313}\n",
      "{'neg': 0.0, 'neu': 0.696, 'pos': 0.304, 'compound': 0.9603}\n",
      "{'neg': 0.0, 'neu': 0.791, 'pos': 0.209, 'compound': 0.5719}\n",
      "{'neg': 0.0, 'neu': 0.804, 'pos': 0.196, 'compound': 0.9503}\n",
      "{'neg': 0.059, 'neu': 0.676, 'pos': 0.265, 'compound': 0.9116}\n",
      "{'neg': 0.014, 'neu': 0.764, 'pos': 0.222, 'compound': 0.9841}\n",
      "{'neg': 0.059, 'neu': 0.879, 'pos': 0.062, 'compound': 0.0176}\n",
      "{'neg': 0.0, 'neu': 0.81, 'pos': 0.19, 'compound': 0.8769}\n",
      "{'neg': 0.037, 'neu': 0.786, 'pos': 0.177, 'compound': 0.9946}\n",
      "{'neg': 0.0, 'neu': 0.631, 'pos': 0.369, 'compound': 0.8779}\n",
      "{'neg': 0.027, 'neu': 0.727, 'pos': 0.245, 'compound': 0.9379}\n",
      "{'neg': 0.0, 'neu': 0.645, 'pos': 0.355, 'compound': 0.872}\n",
      "{'neg': 0.0, 'neu': 0.892, 'pos': 0.108, 'compound': 0.6573}\n",
      "{'neg': 0.0, 'neu': 0.781, 'pos': 0.219, 'compound': 0.9751}\n",
      "{'neg': 0.05, 'neu': 0.872, 'pos': 0.079, 'compound': 0.8972}\n",
      "{'neg': 0.013, 'neu': 0.785, 'pos': 0.203, 'compound': 0.9828}\n",
      "{'neg': 0.026, 'neu': 0.759, 'pos': 0.215, 'compound': 0.9509}\n",
      "{'neg': 0.102, 'neu': 0.822, 'pos': 0.076, 'compound': -0.3626}\n",
      "{'neg': 0.025, 'neu': 0.803, 'pos': 0.172, 'compound': 0.9022}\n",
      "{'neg': 0.017, 'neu': 0.795, 'pos': 0.188, 'compound': 0.9769}\n",
      "{'neg': 0.079, 'neu': 0.67, 'pos': 0.252, 'compound': 0.9678}\n",
      "{'neg': 0.035, 'neu': 0.87, 'pos': 0.095, 'compound': 0.5709}\n",
      "{'neg': 0.0, 'neu': 0.721, 'pos': 0.279, 'compound': 0.9258}\n",
      "{'neg': 0.067, 'neu': 0.633, 'pos': 0.299, 'compound': 0.9022}\n",
      "{'neg': 0.043, 'neu': 0.728, 'pos': 0.229, 'compound': 0.8142}\n",
      "{'neg': 0.114, 'neu': 0.676, 'pos': 0.21, 'compound': 0.6721}\n",
      "{'neg': 0.0, 'neu': 0.755, 'pos': 0.245, 'compound': 0.8658}\n",
      "{'neg': 0.135, 'neu': 0.76, 'pos': 0.105, 'compound': -0.3612}\n",
      "{'neg': 0.046, 'neu': 0.772, 'pos': 0.181, 'compound': 0.7902}\n",
      "{'neg': 0.02, 'neu': 0.878, 'pos': 0.103, 'compound': 0.8082}\n",
      "{'neg': 0.0, 'neu': 0.877, 'pos': 0.123, 'compound': 0.4215}\n",
      "{'neg': 0.0, 'neu': 0.9, 'pos': 0.1, 'compound': 0.6503}\n",
      "{'neg': 0.0, 'neu': 0.695, 'pos': 0.305, 'compound': 0.9661}\n",
      "{'neg': 0.0, 'neu': 0.689, 'pos': 0.311, 'compound': 0.8591}\n",
      "{'neg': 0.15, 'neu': 0.773, 'pos': 0.077, 'compound': -0.4199}\n",
      "{'neg': 0.043, 'neu': 0.833, 'pos': 0.125, 'compound': 0.835}\n",
      "{'neg': 0.098, 'neu': 0.787, 'pos': 0.114, 'compound': 0.2023}\n",
      "{'neg': 0.0, 'neu': 0.782, 'pos': 0.218, 'compound': 0.7814}\n",
      "{'neg': 0.0, 'neu': 0.763, 'pos': 0.237, 'compound': 0.9296}\n",
      "{'neg': 0.059, 'neu': 0.667, 'pos': 0.274, 'compound': 0.9653}\n",
      "{'neg': 0.058, 'neu': 0.841, 'pos': 0.102, 'compound': 0.6124}\n",
      "{'neg': 0.144, 'neu': 0.677, 'pos': 0.178, 'compound': 0.6341}\n",
      "{'neg': 0.087, 'neu': 0.783, 'pos': 0.13, 'compound': 0.7567}\n",
      "{'neg': 0.058, 'neu': 0.867, 'pos': 0.075, 'compound': 0.1533}\n",
      "{'neg': 0.04, 'neu': 0.833, 'pos': 0.127, 'compound': 0.6956}\n",
      "{'neg': 0.0, 'neu': 0.709, 'pos': 0.291, 'compound': 0.9231}\n",
      "{'neg': 0.0, 'neu': 0.564, 'pos': 0.436, 'compound': 0.9858}\n",
      "{'neg': 0.0, 'neu': 0.784, 'pos': 0.216, 'compound': 0.765}\n",
      "{'neg': 0.0, 'neu': 0.775, 'pos': 0.225, 'compound': 0.7269}\n",
      "{'neg': 0.12, 'neu': 0.76, 'pos': 0.12, 'compound': 0.2502}\n",
      "{'neg': 0.0, 'neu': 0.647, 'pos': 0.353, 'compound': 0.9803}\n",
      "{'neg': 0.0, 'neu': 0.768, 'pos': 0.232, 'compound': 0.9681}\n",
      "{'neg': 0.191, 'neu': 0.809, 'pos': 0.0, 'compound': -0.7269}\n",
      "{'neg': 0.071, 'neu': 0.514, 'pos': 0.415, 'compound': 0.8934}\n",
      "{'neg': 0.065, 'neu': 0.893, 'pos': 0.042, 'compound': -0.4721}\n",
      "{'neg': 0.081, 'neu': 0.779, 'pos': 0.14, 'compound': 0.4194}\n",
      "{'neg': 0.0, 'neu': 0.644, 'pos': 0.356, 'compound': 0.9117}\n",
      "{'neg': 0.106, 'neu': 0.894, 'pos': 0.0, 'compound': -0.5504}\n",
      "{'neg': 0.072, 'neu': 0.652, 'pos': 0.276, 'compound': 0.9517}\n",
      "{'neg': 0.047, 'neu': 0.869, 'pos': 0.085, 'compound': 0.4199}\n",
      "{'neg': 0.025, 'neu': 0.752, 'pos': 0.223, 'compound': 0.8957}\n",
      "{'neg': 0.032, 'neu': 0.717, 'pos': 0.251, 'compound': 0.9597}\n",
      "{'neg': 0.0, 'neu': 0.657, 'pos': 0.343, 'compound': 0.9098}\n",
      "{'neg': 0.05, 'neu': 0.905, 'pos': 0.045, 'compound': -0.1154}\n",
      "{'neg': 0.186, 'neu': 0.74, 'pos': 0.074, 'compound': -0.5283}\n",
      "{'neg': 0.141, 'neu': 0.832, 'pos': 0.028, 'compound': -0.7721}\n",
      "{'neg': 0.0, 'neu': 0.854, 'pos': 0.146, 'compound': 0.6476}\n",
      "{'neg': 0.04, 'neu': 0.844, 'pos': 0.116, 'compound': 0.6808}\n",
      "{'neg': 0.0, 'neu': 0.763, 'pos': 0.237, 'compound': 0.8906}\n",
      "{'neg': 0.022, 'neu': 0.788, 'pos': 0.189, 'compound': 0.9901}\n",
      "{'neg': 0.04, 'neu': 0.722, 'pos': 0.237, 'compound': 0.9782}\n",
      "{'neg': 0.0, 'neu': 0.874, 'pos': 0.126, 'compound': 0.7579}\n",
      "{'neg': 0.0, 'neu': 0.938, 'pos': 0.062, 'compound': 0.4215}\n",
      "{'neg': 0.058, 'neu': 0.794, 'pos': 0.148, 'compound': 0.6249}\n",
      "{'neg': 0.2, 'neu': 0.63, 'pos': 0.171, 'compound': 0.1203}\n",
      "{'neg': 0.048, 'neu': 0.829, 'pos': 0.122, 'compound': 0.7458}\n",
      "{'neg': 0.076, 'neu': 0.767, 'pos': 0.156, 'compound': 0.6085}\n",
      "{'neg': 0.0, 'neu': 0.433, 'pos': 0.567, 'compound': 0.9667}\n",
      "{'neg': 0.088, 'neu': 0.743, 'pos': 0.169, 'compound': 0.943}\n",
      "{'neg': 0.0, 'neu': 0.857, 'pos': 0.143, 'compound': 0.9577}\n",
      "{'neg': 0.11, 'neu': 0.593, 'pos': 0.297, 'compound': 0.6597}\n",
      "{'neg': 0.189, 'neu': 0.811, 'pos': 0.0, 'compound': -0.5994}\n",
      "{'neg': 0.016, 'neu': 0.842, 'pos': 0.142, 'compound': 0.9944}\n",
      "{'neg': 0.0, 'neu': 0.824, 'pos': 0.176, 'compound': 0.6983}\n",
      "{'neg': 0.0, 'neu': 0.843, 'pos': 0.157, 'compound': 0.8868}\n",
      "{'neg': 0.0, 'neu': 0.934, 'pos': 0.066, 'compound': 0.3506}\n",
      "{'neg': 0.148, 'neu': 0.64, 'pos': 0.212, 'compound': 0.4926}\n",
      "{'neg': 0.0, 'neu': 0.75, 'pos': 0.25, 'compound': 0.9062}\n",
      "{'neg': 0.055, 'neu': 0.728, 'pos': 0.217, 'compound': 0.8756}\n",
      "{'neg': 0.031, 'neu': 0.735, 'pos': 0.234, 'compound': 0.9595}\n",
      "{'neg': 0.082, 'neu': 0.483, 'pos': 0.435, 'compound': 0.8299}\n",
      "{'neg': 0.0, 'neu': 0.761, 'pos': 0.239, 'compound': 0.9538}\n",
      "{'neg': 0.0, 'neu': 0.917, 'pos': 0.083, 'compound': 0.4738}\n",
      "{'neg': 0.0, 'neu': 0.904, 'pos': 0.096, 'compound': 0.4153}\n",
      "{'neg': 0.0, 'neu': 0.701, 'pos': 0.299, 'compound': 0.8268}\n",
      "{'neg': 0.0, 'neu': 0.811, 'pos': 0.189, 'compound': 0.7178}\n",
      "{'neg': 0.039, 'neu': 0.888, 'pos': 0.072, 'compound': 0.6381}\n",
      "{'neg': 0.064, 'neu': 0.597, 'pos': 0.339, 'compound': 0.9531}\n",
      "{'neg': 0.0, 'neu': 0.688, 'pos': 0.312, 'compound': 0.8225}\n",
      "{'neg': 0.061, 'neu': 0.814, 'pos': 0.125, 'compound': 0.8728}\n",
      "{'neg': 0.0, 'neu': 0.882, 'pos': 0.118, 'compound': 0.6249}\n",
      "{'neg': 0.0, 'neu': 0.754, 'pos': 0.246, 'compound': 0.9368}\n",
      "{'neg': 0.0, 'neu': 0.59, 'pos': 0.41, 'compound': 0.8779}\n",
      "{'neg': 0.051, 'neu': 0.8, 'pos': 0.15, 'compound': 0.8436}\n",
      "{'neg': 0.05, 'neu': 0.82, 'pos': 0.13, 'compound': 0.8913}\n",
      "{'neg': 0.045, 'neu': 0.761, 'pos': 0.194, 'compound': 0.9893}\n",
      "{'neg': 0.075, 'neu': 0.755, 'pos': 0.171, 'compound': 0.9218}\n",
      "{'neg': 0.051, 'neu': 0.821, 'pos': 0.129, 'compound': 0.9529}\n",
      "{'neg': 0.051, 'neu': 0.838, 'pos': 0.11, 'compound': 0.4404}\n",
      "{'neg': 0.095, 'neu': 0.883, 'pos': 0.022, 'compound': -0.9726}\n",
      "{'neg': 0.0, 'neu': 0.891, 'pos': 0.109, 'compound': 0.6476}\n",
      "{'neg': 0.0, 'neu': 0.798, 'pos': 0.202, 'compound': 0.7964}\n",
      "{'neg': 0.078, 'neu': 0.922, 'pos': 0.0, 'compound': -0.296}\n",
      "{'neg': 0.015, 'neu': 0.884, 'pos': 0.101, 'compound': 0.9736}\n",
      "{'neg': 0.059, 'neu': 0.774, 'pos': 0.167, 'compound': 0.9424}\n",
      "{'neg': 0.031, 'neu': 0.702, 'pos': 0.267, 'compound': 0.9812}\n",
      "{'neg': 0.027, 'neu': 0.909, 'pos': 0.064, 'compound': 0.25}\n",
      "{'neg': 0.068, 'neu': 0.666, 'pos': 0.266, 'compound': 0.9883}\n",
      "{'neg': 0.0, 'neu': 0.779, 'pos': 0.221, 'compound': 0.9623}\n",
      "{'neg': 0.0, 'neu': 0.607, 'pos': 0.393, 'compound': 0.923}\n",
      "{'neg': 0.152, 'neu': 0.739, 'pos': 0.109, 'compound': -0.25}\n",
      "{'neg': 0.064, 'neu': 0.794, 'pos': 0.141, 'compound': 0.7951}\n",
      "{'neg': 0.139, 'neu': 0.754, 'pos': 0.108, 'compound': -0.3774}\n",
      "{'neg': 0.106, 'neu': 0.718, 'pos': 0.176, 'compound': 0.5475}\n",
      "{'neg': 0.0, 'neu': 0.837, 'pos': 0.163, 'compound': 0.6486}\n",
      "{'neg': 0.025, 'neu': 0.854, 'pos': 0.121, 'compound': 0.6478}\n",
      "{'neg': 0.03, 'neu': 0.726, 'pos': 0.244, 'compound': 0.9281}\n",
      "{'neg': 0.0, 'neu': 0.904, 'pos': 0.096, 'compound': 0.8144}\n",
      "{'neg': 0.0, 'neu': 0.807, 'pos': 0.193, 'compound': 0.8126}\n",
      "{'neg': 0.103, 'neu': 0.729, 'pos': 0.169, 'compound': 0.2481}\n",
      "{'neg': 0.0, 'neu': 0.805, 'pos': 0.195, 'compound': 0.8655}\n",
      "{'neg': 0.11, 'neu': 0.792, 'pos': 0.098, 'compound': -0.4786}\n",
      "{'neg': 0.041, 'neu': 0.793, 'pos': 0.166, 'compound': 0.9387}\n",
      "{'neg': 0.029, 'neu': 0.798, 'pos': 0.174, 'compound': 0.9936}\n",
      "{'neg': 0.064, 'neu': 0.7, 'pos': 0.236, 'compound': 0.9677}\n",
      "{'neg': 0.0, 'neu': 0.72, 'pos': 0.28, 'compound': 0.765}\n",
      "{'neg': 0.066, 'neu': 0.71, 'pos': 0.223, 'compound': 0.9553}\n",
      "{'neg': 0.0, 'neu': 0.765, 'pos': 0.235, 'compound': 0.807}\n",
      "{'neg': 0.0, 'neu': 0.76, 'pos': 0.24, 'compound': 0.9344}\n",
      "{'neg': 0.0, 'neu': 1.0, 'pos': 0.0, 'compound': 0.0}\n",
      "{'neg': 0.081, 'neu': 0.63, 'pos': 0.289, 'compound': 0.765}\n",
      "{'neg': 0.072, 'neu': 0.825, 'pos': 0.103, 'compound': 0.682}\n",
      "{'neg': 0.075, 'neu': 0.633, 'pos': 0.292, 'compound': 0.9757}\n",
      "{'neg': 0.0, 'neu': 0.869, 'pos': 0.131, 'compound': 0.7717}\n",
      "{'neg': 0.0, 'neu': 0.602, 'pos': 0.398, 'compound': 0.9351}\n",
      "{'neg': 0.0, 'neu': 0.75, 'pos': 0.25, 'compound': 0.7184}\n",
      "{'neg': 0.047, 'neu': 0.781, 'pos': 0.172, 'compound': 0.9476}\n",
      "{'neg': 0.076, 'neu': 0.924, 'pos': 0.0, 'compound': -0.4823}\n",
      "{'neg': 0.107, 'neu': 0.893, 'pos': 0.0, 'compound': -0.4767}\n",
      "{'neg': 0.0, 'neu': 0.801, 'pos': 0.199, 'compound': 0.9698}\n",
      "{'neg': 0.091, 'neu': 0.736, 'pos': 0.172, 'compound': 0.4118}\n",
      "{'neg': 0.103, 'neu': 0.699, 'pos': 0.198, 'compound': 0.9805}\n",
      "{'neg': 0.034, 'neu': 0.664, 'pos': 0.302, 'compound': 0.9463}\n",
      "{'neg': 0.105, 'neu': 0.816, 'pos': 0.079, 'compound': -0.3489}\n",
      "{'neg': 0.04, 'neu': 0.841, 'pos': 0.119, 'compound': 0.8883}\n",
      "{'neg': 0.0, 'neu': 0.833, 'pos': 0.167, 'compound': 0.8824}\n",
      "{'neg': 0.0, 'neu': 0.613, 'pos': 0.387, 'compound': 0.9493}\n",
      "{'neg': 0.0, 'neu': 0.54, 'pos': 0.46, 'compound': 0.9153}\n",
      "{'neg': 0.106, 'neu': 0.706, 'pos': 0.188, 'compound': 0.5849}\n",
      "{'neg': 0.098, 'neu': 0.875, 'pos': 0.026, 'compound': -0.9218}\n",
      "{'neg': 0.051, 'neu': 0.802, 'pos': 0.147, 'compound': 0.872}\n",
      "{'neg': 0.0, 'neu': 0.619, 'pos': 0.381, 'compound': 0.902}\n",
      "{'neg': 0.0, 'neu': 0.862, 'pos': 0.138, 'compound': 0.4926}\n",
      "{'neg': 0.062, 'neu': 0.911, 'pos': 0.028, 'compound': -0.7067}\n",
      "{'neg': 0.0, 'neu': 0.767, 'pos': 0.233, 'compound': 0.8176}\n",
      "{'neg': 0.032, 'neu': 0.794, 'pos': 0.174, 'compound': 0.9354}\n",
      "{'neg': 0.0, 'neu': 0.839, 'pos': 0.161, 'compound': 0.5927}\n",
      "{'neg': 0.062, 'neu': 0.863, 'pos': 0.074, 'compound': 0.2609}\n",
      "{'neg': 0.052, 'neu': 0.817, 'pos': 0.132, 'compound': 0.7003}\n",
      "{'neg': 0.0, 'neu': 0.733, 'pos': 0.267, 'compound': 0.7346}\n",
      "{'neg': 0.037, 'neu': 0.693, 'pos': 0.271, 'compound': 0.9421}\n",
      "{'neg': 0.132, 'neu': 0.711, 'pos': 0.157, 'compound': 0.3303}\n",
      "{'neg': 0.0, 'neu': 0.523, 'pos': 0.477, 'compound': 0.9542}\n",
      "{'neg': 0.025, 'neu': 0.809, 'pos': 0.167, 'compound': 0.937}\n",
      "{'neg': 0.072, 'neu': 0.641, 'pos': 0.288, 'compound': 0.8565}\n",
      "{'neg': 0.066, 'neu': 0.859, 'pos': 0.075, 'compound': 0.1666}\n",
      "{'neg': 0.049, 'neu': 0.823, 'pos': 0.127, 'compound': 0.6438}\n",
      "{'neg': 0.0, 'neu': 0.754, 'pos': 0.246, 'compound': 0.8016}\n",
      "{'neg': 0.028, 'neu': 0.934, 'pos': 0.038, 'compound': 0.1779}\n",
      "{'neg': 0.032, 'neu': 0.792, 'pos': 0.176, 'compound': 0.9852}\n",
      "{'neg': 0.0, 'neu': 0.864, 'pos': 0.136, 'compound': 0.5255}\n",
      "{'neg': 0.0, 'neu': 0.898, 'pos': 0.102, 'compound': 0.7917}\n",
      "{'neg': 0.0, 'neu': 0.857, 'pos': 0.143, 'compound': 0.919}\n",
      "{'neg': 0.035, 'neu': 0.801, 'pos': 0.163, 'compound': 0.9676}\n",
      "{'neg': 0.054, 'neu': 0.745, 'pos': 0.2, 'compound': 0.9557}\n",
      "{'neg': 0.039, 'neu': 0.697, 'pos': 0.264, 'compound': 0.8439}\n",
      "{'neg': 0.104, 'neu': 0.705, 'pos': 0.191, 'compound': 0.6257}\n",
      "{'neg': 0.052, 'neu': 0.745, 'pos': 0.203, 'compound': 0.9434}\n",
      "{'neg': 0.09, 'neu': 0.705, 'pos': 0.205, 'compound': 0.8636}\n",
      "{'neg': 0.034, 'neu': 0.757, 'pos': 0.209, 'compound': 0.9823}\n",
      "{'neg': 0.0, 'neu': 0.887, 'pos': 0.113, 'compound': 0.4939}\n",
      "{'neg': 0.12, 'neu': 0.781, 'pos': 0.099, 'compound': -0.7095}\n",
      "{'neg': 0.025, 'neu': 0.737, 'pos': 0.239, 'compound': 0.9566}\n",
      "{'neg': 0.0, 'neu': 0.811, 'pos': 0.189, 'compound': 0.8781}\n",
      "{'neg': 0.0, 'neu': 0.681, 'pos': 0.319, 'compound': 0.8934}\n",
      "{'neg': 0.078, 'neu': 0.735, 'pos': 0.187, 'compound': 0.9637}\n",
      "{'neg': 0.0, 'neu': 0.632, 'pos': 0.368, 'compound': 0.9661}\n",
      "{'neg': 0.148, 'neu': 0.625, 'pos': 0.227, 'compound': 0.5849}\n",
      "{'neg': 0.014, 'neu': 0.705, 'pos': 0.281, 'compound': 0.9763}\n",
      "{'neg': 0.076, 'neu': 0.791, 'pos': 0.133, 'compound': 0.25}\n",
      "{'neg': 0.058, 'neu': 0.778, 'pos': 0.165, 'compound': 0.5734}\n",
      "{'neg': 0.15, 'neu': 0.773, 'pos': 0.077, 'compound': -0.9037}\n",
      "{'neg': 0.097, 'neu': 0.781, 'pos': 0.122, 'compound': 0.4733}\n",
      "{'neg': 0.0, 'neu': 0.649, 'pos': 0.351, 'compound': 0.894}\n",
      "{'neg': 0.0, 'neu': 0.796, 'pos': 0.204, 'compound': 0.9695}\n",
      "{'neg': 0.0, 'neu': 0.774, 'pos': 0.226, 'compound': 0.9287}\n",
      "{'neg': 0.031, 'neu': 0.657, 'pos': 0.312, 'compound': 0.9644}\n",
      "{'neg': 0.087, 'neu': 0.913, 'pos': 0.0, 'compound': -0.4939}\n",
      "{'neg': 0.0, 'neu': 1.0, 'pos': 0.0, 'compound': 0.0}\n",
      "{'neg': 0.018, 'neu': 0.914, 'pos': 0.069, 'compound': 0.4971}\n",
      "{'neg': 0.024, 'neu': 0.828, 'pos': 0.148, 'compound': 0.6897}\n",
      "{'neg': 0.06, 'neu': 0.772, 'pos': 0.168, 'compound': 0.9109}\n",
      "{'neg': 0.0, 'neu': 0.823, 'pos': 0.177, 'compound': 0.5783}\n",
      "{'neg': 0.07, 'neu': 0.839, 'pos': 0.091, 'compound': 0.6785}\n",
      "{'neg': 0.0, 'neu': 0.904, 'pos': 0.096, 'compound': 0.3716}\n",
      "{'neg': 0.0, 'neu': 0.758, 'pos': 0.242, 'compound': 0.7717}\n",
      "{'neg': 0.065, 'neu': 0.562, 'pos': 0.373, 'compound': 0.886}\n",
      "{'neg': 0.0, 'neu': 1.0, 'pos': 0.0, 'compound': 0.0}\n",
      "{'neg': 0.05, 'neu': 0.69, 'pos': 0.26, 'compound': 0.7712}\n",
      "{'neg': 0.0, 'neu': 1.0, 'pos': 0.0, 'compound': 0.0}\n",
      "{'neg': 0.213, 'neu': 0.514, 'pos': 0.274, 'compound': 0.3185}\n",
      "{'neg': 0.0, 'neu': 0.688, 'pos': 0.312, 'compound': 0.8979}\n",
      "{'neg': 0.075, 'neu': 0.726, 'pos': 0.199, 'compound': 0.9373}\n",
      "{'neg': 0.064, 'neu': 0.594, 'pos': 0.342, 'compound': 0.9581}\n",
      "{'neg': 0.163, 'neu': 0.708, 'pos': 0.129, 'compound': -0.8462}\n",
      "{'neg': 0.029, 'neu': 0.856, 'pos': 0.115, 'compound': 0.5709}\n",
      "{'neg': 0.0, 'neu': 0.837, 'pos': 0.163, 'compound': 0.6249}\n",
      "{'neg': 0.115, 'neu': 0.885, 'pos': 0.0, 'compound': -0.4588}\n",
      "{'neg': 0.0, 'neu': 0.689, 'pos': 0.311, 'compound': 0.9732}\n",
      "{'neg': 0.0, 'neu': 0.662, 'pos': 0.338, 'compound': 0.9719}\n",
      "{'neg': 0.0, 'neu': 0.886, 'pos': 0.114, 'compound': 0.6124}\n",
      "{'neg': 0.046, 'neu': 0.8, 'pos': 0.154, 'compound': 0.6796}\n",
      "{'neg': 0.078, 'neu': 0.651, 'pos': 0.271, 'compound': 0.8506}\n",
      "{'neg': 0.0, 'neu': 0.765, 'pos': 0.235, 'compound': 0.9008}\n",
      "{'neg': 0.0, 'neu': 0.734, 'pos': 0.266, 'compound': 0.784}\n",
      "{'neg': 0.078, 'neu': 0.823, 'pos': 0.098, 'compound': 0.4416}\n",
      "{'neg': 0.069, 'neu': 0.782, 'pos': 0.149, 'compound': 0.8499}\n",
      "{'neg': 0.041, 'neu': 0.657, 'pos': 0.302, 'compound': 0.8731}\n",
      "{'neg': 0.0, 'neu': 0.912, 'pos': 0.088, 'compound': 0.4939}\n",
      "{'neg': 0.11, 'neu': 0.678, 'pos': 0.211, 'compound': 0.8053}\n",
      "{'neg': 0.101, 'neu': 0.627, 'pos': 0.273, 'compound': 0.9758}\n",
      "{'neg': 0.044, 'neu': 0.725, 'pos': 0.231, 'compound': 0.8319}\n",
      "{'neg': 0.0, 'neu': 0.608, 'pos': 0.392, 'compound': 0.9694}\n",
      "{'neg': 0.093, 'neu': 0.752, 'pos': 0.155, 'compound': 0.7667}\n",
      "{'neg': 0.0, 'neu': 0.678, 'pos': 0.322, 'compound': 0.908}\n",
      "{'neg': 0.071, 'neu': 0.861, 'pos': 0.068, 'compound': -0.0258}\n",
      "{'neg': 0.0, 'neu': 0.715, 'pos': 0.285, 'compound': 0.9177}\n",
      "{'neg': 0.064, 'neu': 0.727, 'pos': 0.209, 'compound': 0.7337}\n",
      "{'neg': 0.0, 'neu': 0.893, 'pos': 0.107, 'compound': 0.802}\n",
      "{'neg': 0.0, 'neu': 0.888, 'pos': 0.112, 'compound': 0.6604}\n",
      "{'neg': 0.0, 'neu': 0.802, 'pos': 0.198, 'compound': 0.6892}\n",
      "{'neg': 0.05, 'neu': 0.734, 'pos': 0.215, 'compound': 0.8008}\n",
      "{'neg': 0.027, 'neu': 0.835, 'pos': 0.138, 'compound': 0.8805}\n",
      "{'neg': 0.0, 'neu': 0.895, 'pos': 0.105, 'compound': 0.631}\n",
      "{'neg': 0.164, 'neu': 0.694, 'pos': 0.142, 'compound': 0.283}\n",
      "{'neg': 0.0, 'neu': 0.705, 'pos': 0.295, 'compound': 0.954}\n",
      "{'neg': 0.033, 'neu': 0.785, 'pos': 0.182, 'compound': 0.9441}\n",
      "{'neg': 0.228, 'neu': 0.772, 'pos': 0.0, 'compound': -0.734}\n",
      "{'neg': 0.0, 'neu': 0.891, 'pos': 0.109, 'compound': 0.8802}\n",
      "{'neg': 0.0, 'neu': 0.742, 'pos': 0.258, 'compound': 0.8088}\n",
      "{'neg': 0.033, 'neu': 0.621, 'pos': 0.346, 'compound': 0.9334}\n",
      "{'neg': 0.076, 'neu': 0.768, 'pos': 0.156, 'compound': 0.4434}\n",
      "{'neg': 0.0, 'neu': 0.685, 'pos': 0.315, 'compound': 0.9366}\n",
      "{'neg': 0.038, 'neu': 0.84, 'pos': 0.122, 'compound': 0.8016}\n",
      "{'neg': 0.064, 'neu': 0.871, 'pos': 0.066, 'compound': 0.0258}\n",
      "{'neg': 0.0, 'neu': 0.913, 'pos': 0.087, 'compound': 0.7703}\n",
      "{'neg': 0.012, 'neu': 0.86, 'pos': 0.128, 'compound': 0.9923}\n",
      "{'neg': 0.087, 'neu': 0.643, 'pos': 0.27, 'compound': 0.6912}\n",
      "{'neg': 0.11, 'neu': 0.748, 'pos': 0.142, 'compound': 0.1264}\n",
      "{'neg': 0.0, 'neu': 0.588, 'pos': 0.412, 'compound': 0.9168}\n",
      "{'neg': 0.0, 'neu': 0.728, 'pos': 0.272, 'compound': 0.9472}\n",
      "{'neg': 0.054, 'neu': 0.69, 'pos': 0.256, 'compound': 0.8962}\n",
      "{'neg': 0.0, 'neu': 0.796, 'pos': 0.204, 'compound': 0.874}\n",
      "{'neg': 0.046, 'neu': 0.793, 'pos': 0.161, 'compound': 0.9341}\n",
      "{'neg': 0.063, 'neu': 0.524, 'pos': 0.413, 'compound': 0.9709}\n",
      "{'neg': 0.036, 'neu': 0.695, 'pos': 0.269, 'compound': 0.9468}\n",
      "{'neg': 0.074, 'neu': 0.715, 'pos': 0.212, 'compound': 0.8349}\n",
      "{'neg': 0.318, 'neu': 0.515, 'pos': 0.167, 'compound': -0.7184}\n",
      "{'neg': 0.0, 'neu': 0.905, 'pos': 0.095, 'compound': 0.6369}\n",
      "{'neg': 0.027, 'neu': 0.78, 'pos': 0.193, 'compound': 0.9913}\n",
      "{'neg': 0.0, 'neu': 0.767, 'pos': 0.233, 'compound': 0.8065}\n",
      "{'neg': 0.0, 'neu': 0.774, 'pos': 0.226, 'compound': 0.9796}\n",
      "{'neg': 0.0, 'neu': 0.839, 'pos': 0.161, 'compound': 0.8625}\n",
      "{'neg': 0.089, 'neu': 0.75, 'pos': 0.161, 'compound': 0.8201}\n",
      "{'neg': 0.088, 'neu': 0.537, 'pos': 0.375, 'compound': 0.755}\n",
      "{'neg': 0.031, 'neu': 0.764, 'pos': 0.205, 'compound': 0.9183}\n",
      "{'neg': 0.248, 'neu': 0.636, 'pos': 0.116, 'compound': -0.8174}\n",
      "{'neg': 0.0, 'neu': 0.642, 'pos': 0.358, 'compound': 0.8591}\n",
      "{'neg': 0.0, 'neu': 0.661, 'pos': 0.339, 'compound': 0.8481}\n",
      "{'neg': 0.0, 'neu': 1.0, 'pos': 0.0, 'compound': 0.0}\n",
      "{'neg': 0.0, 'neu': 0.83, 'pos': 0.17, 'compound': 0.8016}\n",
      "{'neg': 0.0, 'neu': 0.502, 'pos': 0.498, 'compound': 0.9677}\n",
      "{'neg': 0.0, 'neu': 0.638, 'pos': 0.362, 'compound': 0.9682}\n",
      "{'neg': 0.046, 'neu': 0.703, 'pos': 0.251, 'compound': 0.867}\n",
      "{'neg': 0.0, 'neu': 0.8, 'pos': 0.2, 'compound': 0.9885}\n",
      "{'neg': 0.0, 'neu': 0.787, 'pos': 0.213, 'compound': 0.7644}\n",
      "{'neg': 0.234, 'neu': 0.556, 'pos': 0.211, 'compound': 0.0}\n",
      "{'neg': 0.093, 'neu': 0.813, 'pos': 0.095, 'compound': 0.0258}\n",
      "{'neg': 0.215, 'neu': 0.697, 'pos': 0.088, 'compound': -0.6351}\n",
      "{'neg': 0.194, 'neu': 0.771, 'pos': 0.035, 'compound': -0.9058}\n",
      "{'neg': 0.0, 'neu': 0.691, 'pos': 0.309, 'compound': 0.8172}\n",
      "{'neg': 0.019, 'neu': 0.702, 'pos': 0.279, 'compound': 0.9622}\n",
      "{'neg': 0.0, 'neu': 0.954, 'pos': 0.046, 'compound': 0.6249}\n",
      "{'neg': 0.036, 'neu': 0.772, 'pos': 0.192, 'compound': 0.9477}\n",
      "{'neg': 0.0, 'neu': 0.713, 'pos': 0.287, 'compound': 0.9257}\n",
      "{'neg': 0.05, 'neu': 0.758, 'pos': 0.192, 'compound': 0.8316}\n",
      "{'neg': 0.016, 'neu': 0.879, 'pos': 0.105, 'compound': 0.8681}\n",
      "{'neg': 0.0, 'neu': 0.802, 'pos': 0.198, 'compound': 0.8555}\n",
      "{'neg': 0.0, 'neu': 0.815, 'pos': 0.185, 'compound': 0.7777}\n",
      "{'neg': 0.0, 'neu': 0.914, 'pos': 0.086, 'compound': 0.4118}\n",
      "{'neg': 0.0, 'neu': 0.722, 'pos': 0.278, 'compound': 0.8902}\n",
      "{'neg': 0.0, 'neu': 0.594, 'pos': 0.406, 'compound': 0.9612}\n",
      "{'neg': 0.07, 'neu': 0.799, 'pos': 0.131, 'compound': 0.9222}\n",
      "{'neg': 0.166, 'neu': 0.809, 'pos': 0.025, 'compound': -0.8957}\n",
      "{'neg': 0.0, 'neu': 0.784, 'pos': 0.216, 'compound': 0.8876}\n",
      "{'neg': 0.148, 'neu': 0.815, 'pos': 0.037, 'compound': -0.5983}\n",
      "{'neg': 0.035, 'neu': 0.754, 'pos': 0.211, 'compound': 0.9561}\n",
      "{'neg': 0.0, 'neu': 0.861, 'pos': 0.139, 'compound': 0.4404}\n",
      "{'neg': 0.223, 'neu': 0.68, 'pos': 0.096, 'compound': -0.3314}\n",
      "{'neg': 0.055, 'neu': 0.687, 'pos': 0.258, 'compound': 0.9106}\n",
      "{'neg': 0.017, 'neu': 0.821, 'pos': 0.161, 'compound': 0.9576}\n",
      "{'neg': 0.0, 'neu': 0.806, 'pos': 0.194, 'compound': 0.7717}\n",
      "{'neg': 0.029, 'neu': 0.817, 'pos': 0.154, 'compound': 0.7845}\n",
      "{'neg': 0.0, 'neu': 0.761, 'pos': 0.239, 'compound': 0.9337}\n",
      "{'neg': 0.0, 'neu': 0.739, 'pos': 0.261, 'compound': 0.9741}\n",
      "{'neg': 0.0, 'neu': 0.617, 'pos': 0.383, 'compound': 0.9876}\n",
      "{'neg': 0.04, 'neu': 0.786, 'pos': 0.174, 'compound': 0.9847}\n",
      "{'neg': 0.0, 'neu': 0.73, 'pos': 0.27, 'compound': 0.9516}\n",
      "{'neg': 0.083, 'neu': 0.751, 'pos': 0.166, 'compound': 0.8044}\n",
      "{'neg': 0.108, 'neu': 0.593, 'pos': 0.299, 'compound': 0.8655}\n",
      "{'neg': 0.0, 'neu': 0.771, 'pos': 0.229, 'compound': 0.9179}\n",
      "{'neg': 0.0, 'neu': 0.829, 'pos': 0.171, 'compound': 0.8519}\n",
      "{'neg': 0.0, 'neu': 0.926, 'pos': 0.074, 'compound': 0.7383}\n",
      "{'neg': 0.0, 'neu': 0.887, 'pos': 0.113, 'compound': 0.6369}\n",
      "{'neg': 0.0, 'neu': 0.728, 'pos': 0.272, 'compound': 0.87}\n",
      "{'neg': 0.072, 'neu': 0.781, 'pos': 0.147, 'compound': 0.9307}\n",
      "{'neg': 0.078, 'neu': 0.793, 'pos': 0.129, 'compound': 0.5176}\n",
      "{'neg': 0.054, 'neu': 0.69, 'pos': 0.257, 'compound': 0.9683}\n",
      "{'neg': 0.0, 'neu': 0.616, 'pos': 0.384, 'compound': 0.9603}\n",
      "{'neg': 0.044, 'neu': 0.898, 'pos': 0.058, 'compound': 0.1882}\n",
      "{'neg': 0.055, 'neu': 0.873, 'pos': 0.072, 'compound': 0.0935}\n",
      "{'neg': 0.077, 'neu': 0.78, 'pos': 0.143, 'compound': 0.3699}\n",
      "{'neg': 0.042, 'neu': 0.763, 'pos': 0.195, 'compound': 0.9883}\n",
      "{'neg': 0.0, 'neu': 0.713, 'pos': 0.287, 'compound': 0.967}\n",
      "{'neg': 0.0, 'neu': 0.737, 'pos': 0.263, 'compound': 0.8531}\n",
      "{'neg': 0.0, 'neu': 0.845, 'pos': 0.155, 'compound': 0.6908}\n",
      "{'neg': 0.034, 'neu': 0.743, 'pos': 0.223, 'compound': 0.9873}\n",
      "{'neg': 0.054, 'neu': 0.782, 'pos': 0.164, 'compound': 0.9337}\n",
      "{'neg': 0.0, 'neu': 0.5, 'pos': 0.5, 'compound': 0.943}\n",
      "{'neg': 0.0, 'neu': 0.603, 'pos': 0.397, 'compound': 0.8811}\n",
      "{'neg': 0.0, 'neu': 0.699, 'pos': 0.301, 'compound': 0.9619}\n",
      "{'neg': 0.082, 'neu': 0.854, 'pos': 0.064, 'compound': -0.4854}\n",
      "{'neg': 0.0, 'neu': 0.684, 'pos': 0.316, 'compound': 0.926}\n",
      "{'neg': 0.0, 'neu': 0.564, 'pos': 0.436, 'compound': 0.9642}\n",
      "{'neg': 0.045, 'neu': 0.717, 'pos': 0.239, 'compound': 0.8455}\n",
      "{'neg': 0.066, 'neu': 0.743, 'pos': 0.19, 'compound': 0.9481}\n",
      "{'neg': 0.08, 'neu': 0.821, 'pos': 0.099, 'compound': 0.4883}\n",
      "{'neg': 0.037, 'neu': 0.87, 'pos': 0.093, 'compound': 0.34}\n",
      "{'neg': 0.099, 'neu': 0.794, 'pos': 0.108, 'compound': 0.5983}\n",
      "{'neg': 0.019, 'neu': 0.868, 'pos': 0.113, 'compound': 0.8443}\n",
      "{'neg': 0.0, 'neu': 0.838, 'pos': 0.162, 'compound': 0.7823}\n",
      "{'neg': 0.0, 'neu': 0.772, 'pos': 0.228, 'compound': 0.9606}\n",
      "{'neg': 0.009, 'neu': 0.845, 'pos': 0.147, 'compound': 0.9874}\n",
      "{'neg': 0.008, 'neu': 0.818, 'pos': 0.174, 'compound': 0.9926}\n",
      "{'neg': 0.049, 'neu': 0.951, 'pos': 0.0, 'compound': -0.3595}\n",
      "{'neg': 0.0, 'neu': 0.957, 'pos': 0.043, 'compound': 0.25}\n",
      "{'neg': 0.051, 'neu': 0.676, 'pos': 0.273, 'compound': 0.9749}\n",
      "{'neg': 0.0, 'neu': 0.565, 'pos': 0.435, 'compound': 0.9649}\n",
      "{'neg': 0.0, 'neu': 0.686, 'pos': 0.314, 'compound': 0.7506}\n",
      "{'neg': 0.013, 'neu': 0.75, 'pos': 0.237, 'compound': 0.9828}\n",
      "{'neg': 0.0, 'neu': 0.585, 'pos': 0.415, 'compound': 0.9095}\n",
      "{'neg': 0.066, 'neu': 0.614, 'pos': 0.32, 'compound': 0.9684}\n",
      "{'neg': 0.034, 'neu': 0.728, 'pos': 0.238, 'compound': 0.8555}\n",
      "{'neg': 0.0, 'neu': 0.823, 'pos': 0.177, 'compound': 0.6239}\n",
      "{'neg': 0.245, 'neu': 0.652, 'pos': 0.103, 'compound': -0.3855}\n",
      "{'neg': 0.0, 'neu': 0.435, 'pos': 0.565, 'compound': 0.9935}\n",
      "{'neg': 0.022, 'neu': 0.728, 'pos': 0.249, 'compound': 0.9451}\n",
      "{'neg': 0.0, 'neu': 0.605, 'pos': 0.395, 'compound': 0.9079}\n",
      "{'neg': 0.0, 'neu': 0.862, 'pos': 0.138, 'compound': 0.3384}\n",
      "{'neg': 0.088, 'neu': 0.767, 'pos': 0.145, 'compound': 0.4516}\n",
      "{'neg': 0.0, 'neu': 0.761, 'pos': 0.239, 'compound': 0.8547}\n",
      "{'neg': 0.0, 'neu': 0.818, 'pos': 0.182, 'compound': 0.9224}\n",
      "{'neg': 0.0, 'neu': 0.909, 'pos': 0.091, 'compound': 0.296}\n",
      "{'neg': 0.179, 'neu': 0.707, 'pos': 0.114, 'compound': -0.3723}\n",
      "{'neg': 0.0, 'neu': 0.861, 'pos': 0.139, 'compound': 0.9598}\n",
      "{'neg': 0.0, 'neu': 0.763, 'pos': 0.237, 'compound': 0.9788}\n",
      "{'neg': 0.055, 'neu': 0.704, 'pos': 0.241, 'compound': 0.9287}\n",
      "{'neg': 0.0, 'neu': 0.717, 'pos': 0.283, 'compound': 0.9367}\n",
      "{'neg': 0.056, 'neu': 0.855, 'pos': 0.089, 'compound': 0.5976}\n",
      "{'neg': 0.1, 'neu': 0.645, 'pos': 0.254, 'compound': 0.6486}\n",
      "{'neg': 0.0, 'neu': 0.788, 'pos': 0.212, 'compound': 0.9743}\n",
      "{'neg': 0.0, 'neu': 0.554, 'pos': 0.446, 'compound': 0.9725}\n",
      "{'neg': 0.059, 'neu': 0.799, 'pos': 0.142, 'compound': 0.7833}\n",
      "{'neg': 0.025, 'neu': 0.762, 'pos': 0.212, 'compound': 0.9848}\n",
      "{'neg': 0.041, 'neu': 0.904, 'pos': 0.055, 'compound': 0.128}\n",
      "{'neg': 0.0, 'neu': 0.678, 'pos': 0.322, 'compound': 0.9811}\n"
     ]
    }
   ],
   "source": [
    "# Running the Polarity score on the dataset \n",
    "for i in range(df.shape[0]):\n",
    "    print(sia.polarity_scores(df['Text'][i]))"
   ]
  },
  {
   "cell_type": "code",
   "execution_count": 15,
   "id": "47e046e2-ca22-46de-b8b8-54500c284938",
   "metadata": {},
   "outputs": [
    {
     "data": {
      "application/vnd.jupyter.widget-view+json": {
       "model_id": "7de6c8db96af459a960614f87cc520d3",
       "version_major": 2,
       "version_minor": 0
      },
      "text/plain": [
       "  0%|          | 0/500 [00:00<?, ?it/s]"
      ]
     },
     "metadata": {},
     "output_type": "display_data"
    }
   ],
   "source": [
    "res = {}\n",
    "for i, row in tqdm(df.iterrows(), total = len(df)):\n",
    "    text = row['Text']\n",
    "    myid = row['Id']\n",
    "    res[myid] = sia.polarity_scores(text)"
   ]
  },
  {
   "cell_type": "code",
   "execution_count": 16,
   "id": "ff5c6872-1fbe-490b-8957-ae6e42c57d98",
   "metadata": {
    "scrolled": true
   },
   "outputs": [
    {
     "data": {
      "text/html": [
       "<div>\n",
       "<style scoped>\n",
       "    .dataframe tbody tr th:only-of-type {\n",
       "        vertical-align: middle;\n",
       "    }\n",
       "\n",
       "    .dataframe tbody tr th {\n",
       "        vertical-align: top;\n",
       "    }\n",
       "\n",
       "    .dataframe thead th {\n",
       "        text-align: right;\n",
       "    }\n",
       "</style>\n",
       "<table border=\"1\" class=\"dataframe\">\n",
       "  <thead>\n",
       "    <tr style=\"text-align: right;\">\n",
       "      <th></th>\n",
       "      <th>Id</th>\n",
       "      <th>neg</th>\n",
       "      <th>neu</th>\n",
       "      <th>pos</th>\n",
       "      <th>compound</th>\n",
       "    </tr>\n",
       "  </thead>\n",
       "  <tbody>\n",
       "    <tr>\n",
       "      <th>0</th>\n",
       "      <td>1</td>\n",
       "      <td>0.000</td>\n",
       "      <td>0.695</td>\n",
       "      <td>0.305</td>\n",
       "      <td>0.9441</td>\n",
       "    </tr>\n",
       "    <tr>\n",
       "      <th>1</th>\n",
       "      <td>2</td>\n",
       "      <td>0.138</td>\n",
       "      <td>0.862</td>\n",
       "      <td>0.000</td>\n",
       "      <td>-0.5664</td>\n",
       "    </tr>\n",
       "    <tr>\n",
       "      <th>2</th>\n",
       "      <td>3</td>\n",
       "      <td>0.091</td>\n",
       "      <td>0.754</td>\n",
       "      <td>0.155</td>\n",
       "      <td>0.8265</td>\n",
       "    </tr>\n",
       "    <tr>\n",
       "      <th>3</th>\n",
       "      <td>4</td>\n",
       "      <td>0.000</td>\n",
       "      <td>1.000</td>\n",
       "      <td>0.000</td>\n",
       "      <td>0.0000</td>\n",
       "    </tr>\n",
       "    <tr>\n",
       "      <th>4</th>\n",
       "      <td>5</td>\n",
       "      <td>0.000</td>\n",
       "      <td>0.552</td>\n",
       "      <td>0.448</td>\n",
       "      <td>0.9468</td>\n",
       "    </tr>\n",
       "  </tbody>\n",
       "</table>\n",
       "</div>"
      ],
      "text/plain": [
       "   Id    neg    neu    pos  compound\n",
       "0   1  0.000  0.695  0.305    0.9441\n",
       "1   2  0.138  0.862  0.000   -0.5664\n",
       "2   3  0.091  0.754  0.155    0.8265\n",
       "3   4  0.000  1.000  0.000    0.0000\n",
       "4   5  0.000  0.552  0.448    0.9468"
      ]
     },
     "execution_count": 16,
     "metadata": {},
     "output_type": "execute_result"
    }
   ],
   "source": [
    "# .T used to flip the dataframe \n",
    "vaders = pd.DataFrame(res).T\n",
    "vaders = vaders.reset_index().rename(columns= {'index' : 'Id'})\n",
    "vaders.head()"
   ]
  },
  {
   "cell_type": "code",
   "execution_count": 17,
   "id": "8077dc91-aeb6-4637-909b-b74d82064b82",
   "metadata": {},
   "outputs": [
    {
     "data": {
      "text/html": [
       "<div>\n",
       "<style scoped>\n",
       "    .dataframe tbody tr th:only-of-type {\n",
       "        vertical-align: middle;\n",
       "    }\n",
       "\n",
       "    .dataframe tbody tr th {\n",
       "        vertical-align: top;\n",
       "    }\n",
       "\n",
       "    .dataframe thead th {\n",
       "        text-align: right;\n",
       "    }\n",
       "</style>\n",
       "<table border=\"1\" class=\"dataframe\">\n",
       "  <thead>\n",
       "    <tr style=\"text-align: right;\">\n",
       "      <th></th>\n",
       "      <th>Id</th>\n",
       "      <th>neg</th>\n",
       "      <th>neu</th>\n",
       "      <th>pos</th>\n",
       "      <th>compound</th>\n",
       "      <th>ProductId</th>\n",
       "      <th>UserId</th>\n",
       "      <th>ProfileName</th>\n",
       "      <th>HelpfulnessNumerator</th>\n",
       "      <th>HelpfulnessDenominator</th>\n",
       "      <th>Score</th>\n",
       "      <th>Time</th>\n",
       "      <th>Summary</th>\n",
       "      <th>Text</th>\n",
       "    </tr>\n",
       "  </thead>\n",
       "  <tbody>\n",
       "    <tr>\n",
       "      <th>0</th>\n",
       "      <td>1</td>\n",
       "      <td>0.000</td>\n",
       "      <td>0.695</td>\n",
       "      <td>0.305</td>\n",
       "      <td>0.9441</td>\n",
       "      <td>B001E4KFG0</td>\n",
       "      <td>A3SGXH7AUHU8GW</td>\n",
       "      <td>delmartian</td>\n",
       "      <td>1</td>\n",
       "      <td>1</td>\n",
       "      <td>5</td>\n",
       "      <td>1303862400</td>\n",
       "      <td>Good Quality Dog Food</td>\n",
       "      <td>I have bought several of the Vitality canned d...</td>\n",
       "    </tr>\n",
       "    <tr>\n",
       "      <th>1</th>\n",
       "      <td>2</td>\n",
       "      <td>0.138</td>\n",
       "      <td>0.862</td>\n",
       "      <td>0.000</td>\n",
       "      <td>-0.5664</td>\n",
       "      <td>B00813GRG4</td>\n",
       "      <td>A1D87F6ZCVE5NK</td>\n",
       "      <td>dll pa</td>\n",
       "      <td>0</td>\n",
       "      <td>0</td>\n",
       "      <td>1</td>\n",
       "      <td>1346976000</td>\n",
       "      <td>Not as Advertised</td>\n",
       "      <td>Product arrived labeled as Jumbo Salted Peanut...</td>\n",
       "    </tr>\n",
       "    <tr>\n",
       "      <th>2</th>\n",
       "      <td>3</td>\n",
       "      <td>0.091</td>\n",
       "      <td>0.754</td>\n",
       "      <td>0.155</td>\n",
       "      <td>0.8265</td>\n",
       "      <td>B000LQOCH0</td>\n",
       "      <td>ABXLMWJIXXAIN</td>\n",
       "      <td>Natalia Corres \"Natalia Corres\"</td>\n",
       "      <td>1</td>\n",
       "      <td>1</td>\n",
       "      <td>4</td>\n",
       "      <td>1219017600</td>\n",
       "      <td>\"Delight\" says it all</td>\n",
       "      <td>This is a confection that has been around a fe...</td>\n",
       "    </tr>\n",
       "    <tr>\n",
       "      <th>3</th>\n",
       "      <td>4</td>\n",
       "      <td>0.000</td>\n",
       "      <td>1.000</td>\n",
       "      <td>0.000</td>\n",
       "      <td>0.0000</td>\n",
       "      <td>B000UA0QIQ</td>\n",
       "      <td>A395BORC6FGVXV</td>\n",
       "      <td>Karl</td>\n",
       "      <td>3</td>\n",
       "      <td>3</td>\n",
       "      <td>2</td>\n",
       "      <td>1307923200</td>\n",
       "      <td>Cough Medicine</td>\n",
       "      <td>If you are looking for the secret ingredient i...</td>\n",
       "    </tr>\n",
       "    <tr>\n",
       "      <th>4</th>\n",
       "      <td>5</td>\n",
       "      <td>0.000</td>\n",
       "      <td>0.552</td>\n",
       "      <td>0.448</td>\n",
       "      <td>0.9468</td>\n",
       "      <td>B006K2ZZ7K</td>\n",
       "      <td>A1UQRSCLF8GW1T</td>\n",
       "      <td>Michael D. Bigham \"M. Wassir\"</td>\n",
       "      <td>0</td>\n",
       "      <td>0</td>\n",
       "      <td>5</td>\n",
       "      <td>1350777600</td>\n",
       "      <td>Great taffy</td>\n",
       "      <td>Great taffy at a great price.  There was a wid...</td>\n",
       "    </tr>\n",
       "  </tbody>\n",
       "</table>\n",
       "</div>"
      ],
      "text/plain": [
       "   Id    neg    neu    pos  compound   ProductId          UserId  \\\n",
       "0   1  0.000  0.695  0.305    0.9441  B001E4KFG0  A3SGXH7AUHU8GW   \n",
       "1   2  0.138  0.862  0.000   -0.5664  B00813GRG4  A1D87F6ZCVE5NK   \n",
       "2   3  0.091  0.754  0.155    0.8265  B000LQOCH0   ABXLMWJIXXAIN   \n",
       "3   4  0.000  1.000  0.000    0.0000  B000UA0QIQ  A395BORC6FGVXV   \n",
       "4   5  0.000  0.552  0.448    0.9468  B006K2ZZ7K  A1UQRSCLF8GW1T   \n",
       "\n",
       "                       ProfileName  HelpfulnessNumerator  \\\n",
       "0                       delmartian                     1   \n",
       "1                           dll pa                     0   \n",
       "2  Natalia Corres \"Natalia Corres\"                     1   \n",
       "3                             Karl                     3   \n",
       "4    Michael D. Bigham \"M. Wassir\"                     0   \n",
       "\n",
       "   HelpfulnessDenominator  Score        Time                Summary  \\\n",
       "0                       1      5  1303862400  Good Quality Dog Food   \n",
       "1                       0      1  1346976000      Not as Advertised   \n",
       "2                       1      4  1219017600  \"Delight\" says it all   \n",
       "3                       3      2  1307923200         Cough Medicine   \n",
       "4                       0      5  1350777600            Great taffy   \n",
       "\n",
       "                                                Text  \n",
       "0  I have bought several of the Vitality canned d...  \n",
       "1  Product arrived labeled as Jumbo Salted Peanut...  \n",
       "2  This is a confection that has been around a fe...  \n",
       "3  If you are looking for the secret ingredient i...  \n",
       "4  Great taffy at a great price.  There was a wid...  "
      ]
     },
     "execution_count": 17,
     "metadata": {},
     "output_type": "execute_result"
    }
   ],
   "source": [
    "vaders = vaders.merge(df, how='left')\n",
    "vaders.head()"
   ]
  },
  {
   "cell_type": "markdown",
   "id": "94ed0f04-dc26-4dd0-84d6-9c549fff2e2f",
   "metadata": {},
   "source": [
    "## Plotting Vader Results"
   ]
  },
  {
   "cell_type": "code",
   "execution_count": 18,
   "id": "a2479467-4eea-4025-a3ff-ef4b9b0ad866",
   "metadata": {},
   "outputs": [
    {
     "name": "stderr",
     "output_type": "stream",
     "text": [
      "C:\\Users\\joshu\\AppData\\Roaming\\Python\\Python310\\site-packages\\seaborn\\_oldcore.py:1498: FutureWarning: is_categorical_dtype is deprecated and will be removed in a future version. Use isinstance(dtype, CategoricalDtype) instead\n",
      "  if pd.api.types.is_categorical_dtype(vector):\n",
      "C:\\Users\\joshu\\AppData\\Roaming\\Python\\Python310\\site-packages\\seaborn\\_oldcore.py:1498: FutureWarning: is_categorical_dtype is deprecated and will be removed in a future version. Use isinstance(dtype, CategoricalDtype) instead\n",
      "  if pd.api.types.is_categorical_dtype(vector):\n",
      "C:\\Users\\joshu\\AppData\\Roaming\\Python\\Python310\\site-packages\\seaborn\\_oldcore.py:1498: FutureWarning: is_categorical_dtype is deprecated and will be removed in a future version. Use isinstance(dtype, CategoricalDtype) instead\n",
      "  if pd.api.types.is_categorical_dtype(vector):\n"
     ]
    },
    {
     "data": {
      "image/png": "[encoded data removed]",
      "text/plain": [
       "<Figure size 640x480 with 1 Axes>"
      ]
     },
     "metadata": {},
     "output_type": "display_data"
    }
   ],
   "source": [
    "ax = sns.barplot(data=vaders, x='Score', y='compound')\n",
    "ax.set_title('Compound Score by Amazon Reviews')\n",
    "plt.show()"
   ]
  },
  {
   "cell_type": "code",
   "execution_count": 19,
   "id": "e5505412-6986-4d86-8db7-a37daade0078",
   "metadata": {},
   "outputs": [
    {
     "name": "stderr",
     "output_type": "stream",
     "text": [
      "C:\\Users\\joshu\\AppData\\Roaming\\Python\\Python310\\site-packages\\seaborn\\_oldcore.py:1498: FutureWarning: is_categorical_dtype is deprecated and will be removed in a future version. Use isinstance(dtype, CategoricalDtype) instead\n",
      "  if pd.api.types.is_categorical_dtype(vector):\n",
      "C:\\Users\\joshu\\AppData\\Roaming\\Python\\Python310\\site-packages\\seaborn\\_oldcore.py:1498: FutureWarning: is_categorical_dtype is deprecated and will be removed in a future version. Use isinstance(dtype, CategoricalDtype) instead\n",
      "  if pd.api.types.is_categorical_dtype(vector):\n",
      "C:\\Users\\joshu\\AppData\\Roaming\\Python\\Python310\\site-packages\\seaborn\\_oldcore.py:1498: FutureWarning: is_categorical_dtype is deprecated and will be removed in a future version. Use isinstance(dtype, CategoricalDtype) instead\n",
      "  if pd.api.types.is_categorical_dtype(vector):\n",
      "C:\\Users\\joshu\\AppData\\Roaming\\Python\\Python310\\site-packages\\seaborn\\_oldcore.py:1498: FutureWarning: is_categorical_dtype is deprecated and will be removed in a future version. Use isinstance(dtype, CategoricalDtype) instead\n",
      "  if pd.api.types.is_categorical_dtype(vector):\n",
      "C:\\Users\\joshu\\AppData\\Roaming\\Python\\Python310\\site-packages\\seaborn\\_oldcore.py:1498: FutureWarning: is_categorical_dtype is deprecated and will be removed in a future version. Use isinstance(dtype, CategoricalDtype) instead\n",
      "  if pd.api.types.is_categorical_dtype(vector):\n",
      "C:\\Users\\joshu\\AppData\\Roaming\\Python\\Python310\\site-packages\\seaborn\\_oldcore.py:1498: FutureWarning: is_categorical_dtype is deprecated and will be removed in a future version. Use isinstance(dtype, CategoricalDtype) instead\n",
      "  if pd.api.types.is_categorical_dtype(vector):\n",
      "C:\\Users\\joshu\\AppData\\Roaming\\Python\\Python310\\site-packages\\seaborn\\_oldcore.py:1498: FutureWarning: is_categorical_dtype is deprecated and will be removed in a future version. Use isinstance(dtype, CategoricalDtype) instead\n",
      "  if pd.api.types.is_categorical_dtype(vector):\n",
      "C:\\Users\\joshu\\AppData\\Roaming\\Python\\Python310\\site-packages\\seaborn\\_oldcore.py:1498: FutureWarning: is_categorical_dtype is deprecated and will be removed in a future version. Use isinstance(dtype, CategoricalDtype) instead\n",
      "  if pd.api.types.is_categorical_dtype(vector):\n",
      "C:\\Users\\joshu\\AppData\\Roaming\\Python\\Python310\\site-packages\\seaborn\\_oldcore.py:1498: FutureWarning: is_categorical_dtype is deprecated and will be removed in a future version. Use isinstance(dtype, CategoricalDtype) instead\n",
      "  if pd.api.types.is_categorical_dtype(vector):\n"
     ]
    },
    {
     "data": {
      "image/png": "[encoded data removed]",
      "text/plain": [
       "<Figure size 1500x500 with 3 Axes>"
      ]
     },
     "metadata": {},
     "output_type": "display_data"
    }
   ],
   "source": [
    "fig, axs = plt.subplots(1, 3, figsize=(15, 5))\n",
    "sns.barplot(data=vaders, x='Score', y='neg', ax=axs[0])\n",
    "sns.barplot(data=vaders, x='Score', y='neu', ax=axs[1])\n",
    "sns.barplot(data=vaders, x='Score', y='pos', ax=axs[2])\n",
    "axs[0].set_title('Negative')\n",
    "axs[1].set_title('Neutral')\n",
    "axs[2].set_title('Positive')\n",
    "plt.show()"
   ]
  },
  {
   "cell_type": "markdown",
   "id": "5f8e4059-c1d9-46b9-a9d2-ab629a1173b9",
   "metadata": {},
   "source": [
    "## Roberta Pretrained Model (State of The Art Model)\n",
    "- Using a pre trained model on a large corpus of data\n",
    "- Transformer model also takes into consideration of the words being used with the context of the sentence. This includes sarcasm."
   ]
  },
  {
   "cell_type": "code",
   "execution_count": 20,
   "id": "e4197a33-089d-49a3-a408-de020a4837a6",
   "metadata": {
    "scrolled": true
   },
   "outputs": [
    {
     "name": "stdout",
     "output_type": "stream",
     "text": [
      "Defaulting to user installation because normal site-packages is not writeable\n",
      "Requirement already satisfied: transformers in c:\\users\\joshu\\appdata\\roaming\\python\\python310\\site-packages (4.36.2)\n",
      "Requirement already satisfied: filelock in c:\\users\\joshu\\appdata\\roaming\\python\\python310\\site-packages (from transformers) (3.13.1)\n",
      "Requirement already satisfied: huggingface-hub<1.0,>=0.19.3 in c:\\users\\joshu\\appdata\\roaming\\python\\python310\\site-packages (from transformers) (0.20.2)\n",
      "Requirement already satisfied: numpy>=1.17 in c:\\users\\joshu\\appdata\\roaming\\python\\python310\\site-packages (from transformers) (1.25.2)\n",
      "Requirement already satisfied: packaging>=20.0 in c:\\users\\joshu\\appdata\\roaming\\python\\python310\\site-packages (from transformers) (23.1)\n",
      "Requirement already satisfied: pyyaml>=5.1 in c:\\users\\joshu\\appdata\\roaming\\python\\python310\\site-packages (from transformers) (6.0.1)\n",
      "Requirement already satisfied: regex!=2019.12.17 in c:\\users\\joshu\\appdata\\roaming\\python\\python310\\site-packages (from transformers) (2023.8.8)\n",
      "Requirement already satisfied: requests in c:\\users\\joshu\\appdata\\roaming\\python\\python310\\site-packages (from transformers) (2.31.0)\n",
      "Requirement already satisfied: tokenizers<0.19,>=0.14 in c:\\users\\joshu\\appdata\\roaming\\python\\python310\\site-packages (from transformers) (0.15.0)\n",
      "Requirement already satisfied: safetensors>=0.3.1 in c:\\users\\joshu\\appdata\\roaming\\python\\python310\\site-packages (from transformers) (0.4.1)\n",
      "Requirement already satisfied: tqdm>=4.27 in c:\\users\\joshu\\appdata\\roaming\\python\\python310\\site-packages (from transformers) (4.66.1)\n",
      "Requirement already satisfied: fsspec>=2023.5.0 in c:\\users\\joshu\\appdata\\roaming\\python\\python310\\site-packages (from huggingface-hub<1.0,>=0.19.3->transformers) (2023.12.2)\n",
      "Requirement already satisfied: typing-extensions>=3.7.4.3 in c:\\users\\joshu\\appdata\\roaming\\python\\python310\\site-packages (from huggingface-hub<1.0,>=0.19.3->transformers) (4.7.1)\n",
      "Requirement already satisfied: colorama in c:\\users\\joshu\\appdata\\roaming\\python\\python310\\site-packages (from tqdm>=4.27->transformers) (0.3.9)\n",
      "Requirement already satisfied: charset-normalizer<4,>=2 in c:\\users\\joshu\\appdata\\roaming\\python\\python310\\site-packages (from requests->transformers) (3.2.0)\n",
      "Requirement already satisfied: idna<4,>=2.5 in c:\\users\\joshu\\appdata\\roaming\\python\\python310\\site-packages (from requests->transformers) (3.4)\n",
      "Requirement already satisfied: urllib3<3,>=1.21.1 in c:\\users\\joshu\\appdata\\roaming\\python\\python310\\site-packages (from requests->transformers) (1.26.16)\n",
      "Requirement already satisfied: certifi>=2017.4.17 in c:\\users\\joshu\\appdata\\roaming\\python\\python310\\site-packages (from requests->transformers) (2023.7.22)\n",
      "Note: you may need to restart the kernel to use updated packages.\n"
     ]
    },
    {
     "name": "stderr",
     "output_type": "stream",
     "text": [
      "\n",
      "[notice] A new release of pip is available: 23.2.1 -> 23.3.2\n",
      "[notice] To update, run: python.exe -m pip install --upgrade pip\n"
     ]
    }
   ],
   "source": [
    "pip install transformers"
   ]
  },
  {
   "cell_type": "code",
   "execution_count": 36,
   "id": "365c1def-1e01-4cde-85db-392ca70de670",
   "metadata": {},
   "outputs": [],
   "source": [
    "from transformers import AutoTokenizer\n",
    "from transformers import AutoModelForSequenceClassification\n",
    "from scipy.special import softmax"
   ]
  },
  {
   "cell_type": "code",
   "execution_count": 38,
   "id": "d6c3c77d-79d1-47da-a9c5-7a4e6a82ae13",
   "metadata": {
    "scrolled": true
   },
   "outputs": [
    {
     "data": {
      "application/vnd.jupyter.widget-view+json": {
       "model_id": "32e72ee46ab34b908341b32b56b5dac6",
       "version_major": 2,
       "version_minor": 0
      },
      "text/plain": [
       "pytorch_model.bin:   0%|          | 0.00/499M [00:00<?, ?B/s]"
      ]
     },
     "metadata": {},
     "output_type": "display_data"
    },
    {
     "name": "stderr",
     "output_type": "stream",
     "text": [
      "C:\\Users\\joshu\\AppData\\Roaming\\Python\\Python310\\site-packages\\huggingface_hub\\file_download.py:149: UserWarning: `huggingface_hub` cache-system uses symlinks by default to efficiently store duplicated files but your machine does not support them in C:\\Users\\joshu\\.cache\\huggingface\\hub\\models--cardiffnlp--twitter-roberta-base-sentiment. Caching files will still work but in a degraded version that might require more space on your disk. This warning can be disabled by setting the `HF_HUB_DISABLE_SYMLINKS_WARNING` environment variable. For more details, see https://huggingface.co/docs/huggingface_hub/how-to-cache#limitations.\n",
      "To support symlinks on Windows, you either need to activate Developer Mode or to run Python as an administrator. In order to see activate developer mode, see this article: https://docs.microsoft.com/en-us/windows/apps/get-started/enable-your-device-for-development\n",
      "  warnings.warn(message)\n"
     ]
    }
   ],
   "source": [
    "MODEL = f\"cardiffnlp/twitter-roberta-base-sentiment\"\n",
    "tokenizer = AutoTokenizer.from_pretrained(MODEL)\n",
    "model = AutoModelForSequenceClassification.from_pretrained(MODEL)"
   ]
  },
  {
   "cell_type": "code",
   "execution_count": 60,
   "id": "03ef3429-c611-40bf-87c8-9707b66392e5",
   "metadata": {},
   "outputs": [
    {
     "name": "stdout",
     "output_type": "stream",
     "text": [
      "This oatmeal is not good. Its mushy, soft, I don't like it. Quaker Oats is the way to go.\n"
     ]
    },
    {
     "data": {
      "text/plain": [
       "{'neg': 0.22, 'neu': 0.78, 'pos': 0.0, 'compound': -0.5448}"
      ]
     },
     "execution_count": 60,
     "metadata": {},
     "output_type": "execute_result"
    }
   ],
   "source": [
    "print(example)\n",
    "sia.polarity_scores(example)"
   ]
  },
  {
   "cell_type": "code",
   "execution_count": 43,
   "id": "d4caf0ae-544c-4cc3-889b-7d3371dbff51",
   "metadata": {},
   "outputs": [],
   "source": [
    "# Run Roberta Model for Example\n",
    "encoded_text = tokenizer(example, return_tensors='pt')"
   ]
  },
  {
   "cell_type": "code",
   "execution_count": 59,
   "id": "11dc5705-519c-479f-bce5-6376ef14535c",
   "metadata": {},
   "outputs": [
    {
     "name": "stdout",
     "output_type": "stream",
     "text": [
      "{'neg': 3.1436293, 'neu': -0.7106685, 'pos': -2.6558964}\n"
     ]
    }
   ],
   "source": [
    "output = model(**encoded_text)\n",
    "scores = output[0][0].detach().numpy()\n",
    "# scores = softmax(scores)\n",
    "scores_dict = {\n",
    "    'neg': scores[0],\n",
    "    'neu': scores[1],\n",
    "    'pos': scores[2]\n",
    "}\n",
    "print(scores_dict)"
   ]
  },
  {
   "cell_type": "code",
   "execution_count": 64,
   "id": "b0695072-e3a7-4ec0-9929-c8edb7750f63",
   "metadata": {},
   "outputs": [],
   "source": [
    "def polarity_scores_roberta(example):\n",
    "    encoded_text = tokenizer(example, return_tensors='pt')\n",
    "    output = model(**encoded_text)\n",
    "    scores = output[0][0].detach().numpy()\n",
    "    scores = softmax(scores)\n",
    "    scores_dict = {\n",
    "        'neg': scores[0],\n",
    "        'neu': scores[1],\n",
    "        'pos': scores[2]\n",
    "    }\n",
    "    return scores_dict"
   ]
  },
  {
   "cell_type": "code",
   "execution_count": null,
   "id": "ae90d479-a41e-44e4-8c7d-fea06d93841b",
   "metadata": {},
   "outputs": [],
   "source": [
    "res_roberta ={}\n",
    "for i, row in tqdm(df.iterrows(), total=len(df)):\n",
    "    text = row['Text']\n",
    "    myid = row['Id']\n",
    "    res[myid] = polarity_scores_roberta(text)"
   ]
  }
 ],
 "metadata": {
  "kernelspec": {
   "display_name": "Python 3 (ipykernel)",
   "language": "python",
   "name": "python3"
  },
  "language_info": {
   "codemirror_mode": {
    "name": "ipython",
    "version": 3
   },
   "file_extension": ".py",
   "mimetype": "text/x-python",
   "name": "python",
   "nbconvert_exporter": "python",
   "pygments_lexer": "ipython3",
   "version": "3.10.10"
  }
 },
 "nbformat": 4,
 "nbformat_minor": 5
}
